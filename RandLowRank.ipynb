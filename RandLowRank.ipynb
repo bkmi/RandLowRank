{
 "cells": [
  {
   "cell_type": "code",
   "execution_count": null,
   "metadata": {},
   "outputs": [],
   "source": [
    "%matplotlib notebook"
   ]
  },
  {
   "cell_type": "code",
   "execution_count": null,
   "metadata": {},
   "outputs": [],
   "source": [
    "import matplotlib.pyplot as plt\n",
    "import numpy as np\n",
    "import scipy.linalg"
   ]
  },
  {
   "cell_type": "markdown",
   "metadata": {},
   "source": [
    "# Creating A"
   ]
  },
  {
   "cell_type": "code",
   "execution_count": null,
   "metadata": {},
   "outputs": [],
   "source": [
    "def data_matrix(k, m, n):\n",
    "    extra_columns = n-k\n",
    "    extra_rows = m-k\n",
    "    return np.block([\n",
    "        [np.eye(k), np.zeros((k, extra_columns))],\n",
    "        [np.zeros((extra_rows, k)), np.zeros((extra_rows, extra_columns))],\n",
    "    ])"
   ]
  },
  {
   "cell_type": "code",
   "execution_count": null,
   "metadata": {},
   "outputs": [],
   "source": [
    "data_matrix(2, 4, 4)"
   ]
  },
  {
   "cell_type": "markdown",
   "metadata": {},
   "source": [
    "# Calculating c"
   ]
  },
  {
   "cell_type": "code",
   "execution_count": null,
   "metadata": {},
   "outputs": [],
   "source": [
    "def calculate_c(k, n, epsilon):\n",
    "    \"\"\"Approximate for large n.\"\"\"\n",
    "    if 0 < epsilon and epsilon <= 0.5 and k <= n:\n",
    "        return (k / epsilon**2) * np.log(k/epsilon) * np.log(n)\n",
    "    else:\n",
    "        raise ValueError(\"Epsilon must be between 0 and 1/2.\")"
   ]
  },
  {
   "cell_type": "markdown",
   "metadata": {},
   "source": [
    "# The Selection Matrix"
   ]
  },
  {
   "cell_type": "code",
   "execution_count": null,
   "metadata": {},
   "outputs": [],
   "source": [
    "def selection_matrix(c, n):\n",
    "    \"\"\"Return a selection matrix of shape == (n, c)\"\"\"\n",
    "    canonical_vectors = np.random.randint(low=0, high=n-1, size=c)\n",
    "    return np.sqrt(n/c) * np.eye(n)[canonical_vectors].T"
   ]
  },
  {
   "cell_type": "markdown",
   "metadata": {},
   "source": [
    "# The Randomized Hadamard Transform"
   ]
  },
  {
   "cell_type": "code",
   "execution_count": null,
   "metadata": {},
   "outputs": [],
   "source": [
    "# def hadamard_matrix(n):\n",
    "#     if n == 2:\n",
    "#         h2 = np.array([[1, 1],[1, -1]])\n",
    "#         return h2\n",
    "#     elif n % 2 == 0:\n",
    "#         return np.block([\n",
    "#             [hadamard_matrix(n/2), hadamard_matrix(n/2)], \n",
    "#             [hadamard_matrix(n/2), -hadamard_matrix(n/2)]\n",
    "#         ])\n",
    "#     else:\n",
    "#         raise ValueError(\"n was not a power of two.\")\n",
    "\n",
    "def randomized_hadamard_transform(n):\n",
    "    H_tilde = scipy.linalg.hadamard(n)\n",
    "    H = np.sqrt(n) ** (-1) * H_tilde\n",
    "    D = np.diag(np.random.randint(low=0, high=2, size=n) - 0.5)\n",
    "    return D @ H"
   ]
  },
  {
   "cell_type": "markdown",
   "metadata": {},
   "source": [
    "# Example"
   ]
  },
  {
   "cell_type": "code",
   "execution_count": null,
   "metadata": {},
   "outputs": [],
   "source": [
    "m = 2 ** 14\n",
    "n = 2 ** 13\n",
    "# k = int(1e-4 * min([n, m]))\n",
    "k = int(1e-3 * n)\n",
    "epsilon = 0.5\n",
    "c = int(np.ceil(calculate_c(k, n, epsilon)))\n",
    "print(f\"n = {n}, k = {k}, c = {c}\")"
   ]
  },
  {
   "cell_type": "code",
   "execution_count": null,
   "metadata": {},
   "outputs": [],
   "source": [
    "S = selection_matrix(c, n)"
   ]
  },
  {
   "cell_type": "code",
   "execution_count": null,
   "metadata": {},
   "outputs": [],
   "source": [
    "DH = randomized_hadamard_transform(n)"
   ]
  },
  {
   "cell_type": "code",
   "execution_count": null,
   "metadata": {},
   "outputs": [],
   "source": [
    "DHS = DH @ S"
   ]
  },
  {
   "cell_type": "code",
   "execution_count": null,
   "metadata": {},
   "outputs": [],
   "source": [
    "DHS.shape"
   ]
  },
  {
   "cell_type": "code",
   "execution_count": null,
   "metadata": {},
   "outputs": [],
   "source": []
  }
 ],
 "metadata": {
  "kernelspec": {
   "display_name": "Python 3",
   "language": "python",
   "name": "python3"
  },
  "language_info": {
   "codemirror_mode": {
    "name": "ipython",
    "version": 3
   },
   "file_extension": ".py",
   "mimetype": "text/x-python",
   "name": "python",
   "nbconvert_exporter": "python",
   "pygments_lexer": "ipython3",
   "version": "3.7.4"
  }
 },
 "nbformat": 4,
 "nbformat_minor": 2
}
