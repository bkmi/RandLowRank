{
 "cells": [
  {
   "cell_type": "code",
   "execution_count": null,
   "metadata": {},
   "outputs": [],
   "source": [
    "%matplotlib inline"
   ]
  },
  {
   "cell_type": "code",
   "execution_count": null,
   "metadata": {},
   "outputs": [],
   "source": [
    "import matplotlib.pyplot as plt\n",
    "import numpy as np\n",
    "import scipy.linalg"
   ]
  },
  {
   "cell_type": "markdown",
   "metadata": {},
   "source": [
    "# Creating A"
   ]
  },
  {
   "cell_type": "code",
   "execution_count": null,
   "metadata": {},
   "outputs": [],
   "source": [
    "def data_matrix(k, m, n):\n",
    "    extra_columns = n-k\n",
    "    extra_rows = m-k\n",
    "    return np.block([\n",
    "        [np.eye(k), np.zeros((k, extra_columns))],\n",
    "        [np.zeros((extra_rows, k)), np.zeros((extra_rows, extra_columns))],\n",
    "    ])"
   ]
  },
  {
   "cell_type": "markdown",
   "metadata": {},
   "source": [
    "# Calculating c"
   ]
  },
  {
   "cell_type": "code",
   "execution_count": null,
   "metadata": {},
   "outputs": [],
   "source": [
    "def calculate_asymptotic_c(k, n, epsilon):\n",
    "    \"\"\"Approximate for large n.\"\"\"\n",
    "    n = float(n)\n",
    "    if 0.0 < epsilon and epsilon <= 0.5 and k <= n:\n",
    "        c = (k / epsilon ** 2)\n",
    "        c *= np.log(k / epsilon)\n",
    "        c *= np.log(n)\n",
    "        return c\n",
    "    else:\n",
    "        raise ValueError(\"Epsilon must be between 0 and 1/2.\")\n",
    "\n",
    "def calculate_c(k, n, epsilon):\n",
    "    n = float(n)\n",
    "    epsilon /= 21\n",
    "    c = 192 * k * np.log(40 * n * k) / epsilon ** 2\n",
    "    c *= np.log((192 * np.sqrt(20) * k * np.log(40 * n * k)) / epsilon ** 2)\n",
    "    return c"
   ]
  },
  {
   "cell_type": "markdown",
   "metadata": {},
   "source": [
    "# The Selection Matrix"
   ]
  },
  {
   "cell_type": "code",
   "execution_count": null,
   "metadata": {},
   "outputs": [],
   "source": [
    "def selection_matrix(c, n):\n",
    "    \"\"\"Return a selection matrix of shape == (n, c)\"\"\"\n",
    "    canonical_vectors = np.random.randint(low=0, high=n-1, size=c)\n",
    "    return np.sqrt(n/c) * np.eye(n)[canonical_vectors].T"
   ]
  },
  {
   "cell_type": "markdown",
   "metadata": {},
   "source": [
    "# The Randomized Hadamard Transform"
   ]
  },
  {
   "cell_type": "code",
   "execution_count": null,
   "metadata": {},
   "outputs": [],
   "source": [
    "# def hadamard_matrix(n):\n",
    "#     if n == 2:\n",
    "#         h2 = np.array([[1, 1],[1, -1]])\n",
    "#         return h2\n",
    "#     elif n % 2 == 0:\n",
    "#         return np.block([\n",
    "#             [hadamard_matrix(n/2), hadamard_matrix(n/2)], \n",
    "#             [hadamard_matrix(n/2), -hadamard_matrix(n/2)]\n",
    "#         ])\n",
    "#     else:\n",
    "#         raise ValueError(\"n was not a power of two.\")\n",
    "\n",
    "def randomized_hadamard_transform(n):\n",
    "    H_tilde = scipy.linalg.hadamard(n)\n",
    "    H = np.sqrt(n) ** (-1) * H_tilde\n",
    "    D = np.diag(np.random.randint(low=0, high=2, size=n) - 0.5)\n",
    "    return D @ H"
   ]
  },
  {
   "cell_type": "markdown",
   "metadata": {},
   "source": [
    "# Show c vs asymptotic c"
   ]
  },
  {
   "cell_type": "code",
   "execution_count": null,
   "metadata": {},
   "outputs": [],
   "source": [
    "# Constant k\n",
    "k = 1\n",
    "epsilon = 0.5\n",
    "min_n, max_n = 1, 10\n",
    "expos = range(min_n, max_n + 1)\n",
    "\n",
    "\n",
    "ns = [2 ** expo for expo in expos]\n",
    "asym_cs = [calculate_asymptotic_c(k, n, epsilon) for n in ns]\n",
    "cs = [calculate_c(k, n, epsilon) for n in ns]\n",
    "\n",
    "fig, ax = plt.subplots()\n",
    "ax.plot(ns, asym_cs, label=\"Asymptotic\")\n",
    "ax.plot(ns, cs, label=\"Exact\")\n",
    "ax.set_yscale('log', basey=2)\n",
    "ax.set_xscale('log', basex=2)\n",
    "ax.legend()\n",
    "# fig.show()"
   ]
  },
  {
   "cell_type": "code",
   "execution_count": null,
   "metadata": {},
   "outputs": [],
   "source": [
    "# Constant n\n",
    "n = 2 ** 10\n",
    "epsilon = 0.5\n",
    "min_k, max_k = 1, 50\n",
    "# expos = range(min_n, max_n + 1)\n",
    "ks = range(min_k, max_k + 1)\n",
    "\n",
    "\n",
    "# n = [2 ** expo for expo in expos]\n",
    "asym_cs = [calculate_asymptotic_c(k, n, epsilon) for k in ks]\n",
    "cs = [calculate_c(k, n, epsilon) for k in ks]\n",
    "\n",
    "fig, ax = plt.subplots()\n",
    "ax.plot(ks, asym_cs, label=\"Asymptotic\")\n",
    "ax.plot(ks, cs, label=\"Exact\")\n",
    "ax.set_yscale('log', basey=2)\n",
    "# ax.set_xscale('log', basex=2)\n",
    "ax.legend()\n",
    "# fig.show()"
   ]
  },
  {
   "cell_type": "markdown",
   "metadata": {},
   "source": [
    "# Error in Theorem 80"
   ]
  },
  {
   "cell_type": "code",
   "execution_count": null,
   "metadata": {},
   "outputs": [],
   "source": [
    "def kth_best_approx(A, k):\n",
    "    if k-1 < 0:\n",
    "        raise ValueError(\"Positive ks please.\")\n",
    "    u, s, vh = np.linalg.svd(A, full_matrices=False)\n",
    "    return np.dot(u[:, :k] * s[:k], vh[:k, :])"
   ]
  },
  {
   "cell_type": "code",
   "execution_count": null,
   "metadata": {},
   "outputs": [],
   "source": [
    "m = 2 ** 6\n",
    "n = 2 ** 5\n",
    "A = data_matrix(10, m, n)\n",
    "u, s, vh = np.linalg.svd(A, full_matrices=False)\n",
    "np.allclose(A, np.linalg.multi_dot((u, np.diag(s), vh)))"
   ]
  },
  {
   "cell_type": "code",
   "execution_count": null,
   "metadata": {},
   "outputs": [],
   "source": [
    "kth_best_approx(A, 2)"
   ]
  },
  {
   "cell_type": "code",
   "execution_count": null,
   "metadata": {},
   "outputs": [],
   "source": [
    "np.linalg.norm(A-kth_best_approx(A, 1))"
   ]
  },
  {
   "cell_type": "markdown",
   "metadata": {},
   "source": [
    "# Do the error calc"
   ]
  },
  {
   "cell_type": "code",
   "execution_count": null,
   "metadata": {},
   "outputs": [],
   "source": [
    "m = 2 ** 20\n",
    "n = 2 ** 20\n",
    "# k = int(1e-4 * min([n, m]))\n",
    "k = int(1e-3 * n)\n",
    "epsilon = 0.5\n",
    "c = int(np.ceil(calculate_c(k, n, epsilon)))\n",
    "print(f\"n = {n}, k = {k}, c = {c}\")"
   ]
  },
  {
   "cell_type": "code",
   "execution_count": null,
   "metadata": {},
   "outputs": [],
   "source": [
    "m = 2 ** 14\n",
    "n = 2 ** 13\n",
    "# k = int(1e-4 * min([n, m]))\n",
    "k = int(1e-3 * n)\n",
    "epsilon = 0.5\n",
    "c = int(np.ceil(calculate_c(k, n, epsilon)))\n",
    "print(f\"n = {n}, k = {k}, c = {c}\")"
   ]
  },
  {
   "cell_type": "code",
   "execution_count": null,
   "metadata": {},
   "outputs": [],
   "source": []
  },
  {
   "cell_type": "code",
   "execution_count": null,
   "metadata": {},
   "outputs": [],
   "source": [
    "A = data_matrix(k, m, n)\n",
    "A = "
   ]
  },
  {
   "cell_type": "code",
   "execution_count": null,
   "metadata": {},
   "outputs": [],
   "source": [
    "S = selection_matrix(c, n)"
   ]
  },
  {
   "cell_type": "code",
   "execution_count": null,
   "metadata": {},
   "outputs": [],
   "source": [
    "DH = randomized_hadamard_transform(n)"
   ]
  },
  {
   "cell_type": "code",
   "execution_count": null,
   "metadata": {},
   "outputs": [],
   "source": [
    "ADHS = np.linalg.multi_dot((A, DH, S))"
   ]
  },
  {
   "cell_type": "code",
   "execution_count": null,
   "metadata": {},
   "outputs": [],
   "source": [
    "ADHS.shape"
   ]
  }
 ],
 "metadata": {
  "kernelspec": {
   "display_name": "Python 3",
   "language": "python",
   "name": "python3"
  },
  "language_info": {
   "codemirror_mode": {
    "name": "ipython",
    "version": 3
   },
   "file_extension": ".py",
   "mimetype": "text/x-python",
   "name": "python",
   "nbconvert_exporter": "python",
   "pygments_lexer": "ipython3",
   "version": "3.7.4"
  }
 },
 "nbformat": 4,
 "nbformat_minor": 2
}
