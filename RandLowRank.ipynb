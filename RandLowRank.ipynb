{
 "cells": [
  {
   "cell_type": "code",
   "execution_count": 1,
   "metadata": {},
   "outputs": [],
   "source": [
    "%matplotlib inline"
   ]
  },
  {
   "cell_type": "code",
   "execution_count": 2,
   "metadata": {},
   "outputs": [],
   "source": [
    "import matplotlib.pyplot as plt\n",
    "import numpy as np\n",
    "import scipy.linalg"
   ]
  },
  {
   "cell_type": "markdown",
   "metadata": {},
   "source": [
    "# Creating A"
   ]
  },
  {
   "cell_type": "code",
   "execution_count": 3,
   "metadata": {},
   "outputs": [],
   "source": [
    "# def data_matrix(k, m, n):\n",
    "#     extra_columns = n-k\n",
    "#     extra_rows = m-k\n",
    "#     return np.block([\n",
    "#         [np.eye(k), np.zeros((k, extra_columns))],\n",
    "#         [np.zeros((extra_rows, k)), np.zeros((extra_rows, extra_columns))],\n",
    "#     ])"
   ]
  },
  {
   "cell_type": "code",
   "execution_count": 4,
   "metadata": {},
   "outputs": [],
   "source": [
    "def contruct_rank_k_matrix(k, m, n):\n",
    "    assert k < m and k < n\n",
    "    columns = np.random.randn(m, k)\n",
    "    first = np.arange(0, k)\n",
    "    rand_select = np.random.randint(low=0, high=k, size=n-k)\n",
    "    select = np.concatenate([first, rand_select])\n",
    "    random_mat = columns[:, select]\n",
    "    return random_mat"
   ]
  },
  {
   "cell_type": "markdown",
   "metadata": {},
   "source": [
    "# Calculating c"
   ]
  },
  {
   "cell_type": "code",
   "execution_count": 5,
   "metadata": {},
   "outputs": [],
   "source": [
    "def calculate_asymptotic_c(k, n, epsilon):\n",
    "    \"\"\"Approximate for large n.\"\"\"\n",
    "    n = float(n)\n",
    "    if 0.0 < epsilon and epsilon <= 0.5 and k <= n:\n",
    "        c = (k / epsilon ** 2)\n",
    "        c *= np.log(k / epsilon)\n",
    "        c *= np.log(n)\n",
    "        return c\n",
    "    else:\n",
    "        raise ValueError(\"Epsilon must be between 0 and 1/2.\")\n",
    "\n",
    "def calculate_c(k, n, epsilon):\n",
    "    n = float(n)\n",
    "    epsilon *= 21\n",
    "    c = 192 * k * np.log(40 * n * k) / epsilon ** 2\n",
    "    c *= np.log((192 * np.sqrt(20) * k * np.log(40 * n * k)) / epsilon ** 2)\n",
    "    return c"
   ]
  },
  {
   "cell_type": "markdown",
   "metadata": {},
   "source": [
    "# The Selection Matrix"
   ]
  },
  {
   "cell_type": "code",
   "execution_count": 6,
   "metadata": {},
   "outputs": [],
   "source": [
    "def selection_matrix(n, c):\n",
    "    \"\"\"Return a selection matrix of shape == (n, c)\"\"\"\n",
    "    index_canonical_vectors = np.random.randint(low=0, high=n-1, size=c)\n",
    "    canonical_vectors = np.zeros((n, c))\n",
    "    for row, col in zip(index_canonical_vectors, range(c)):\n",
    "        canonical_vectors[row, col] = 1.0\n",
    "    return np.sqrt(n/c) * canonical_vectors"
   ]
  },
  {
   "cell_type": "markdown",
   "metadata": {},
   "source": [
    "# The Randomized Hadamard Transform"
   ]
  },
  {
   "cell_type": "code",
   "execution_count": 7,
   "metadata": {},
   "outputs": [],
   "source": [
    "# def hadamard_matrix(n):\n",
    "#     if n == 2:\n",
    "#         h2 = np.array([[1, 1],[1, -1]])\n",
    "#         return h2\n",
    "#     elif n % 2 == 0:\n",
    "#         return np.block([\n",
    "#             [hadamard_matrix(n/2), hadamard_matrix(n/2)], \n",
    "#             [hadamard_matrix(n/2), -hadamard_matrix(n/2)]\n",
    "#         ])\n",
    "#     else:\n",
    "#         raise ValueError(\"n was not a power of two.\")\n",
    "\n",
    "def randomized_hadamard_transform(n):\n",
    "    H_tilde = scipy.linalg.hadamard(n)\n",
    "    H = np.sqrt(n) ** (-1) * H_tilde\n",
    "    D = np.diag(np.random.randint(low=0, high=2, size=n) - 0.5)\n",
    "    return D @ H"
   ]
  },
  {
   "cell_type": "markdown",
   "metadata": {},
   "source": [
    "# Show c vs asymptotic c"
   ]
  },
  {
   "cell_type": "code",
   "execution_count": 8,
   "metadata": {},
   "outputs": [
    {
     "data": {
      "text/plain": [
       "<matplotlib.legend.Legend at 0x7fc52eea2e10>"
      ]
     },
     "execution_count": 8,
     "metadata": {},
     "output_type": "execute_result"
    },
    {
     "data": {
      "image/png": "[encoded data removed]",
      "text/plain": [
       "<Figure size 432x288 with 1 Axes>"
      ]
     },
     "metadata": {
      "needs_background": "light"
     },
     "output_type": "display_data"
    }
   ],
   "source": [
    "# Constant k\n",
    "k = 1\n",
    "epsilon = 0.5\n",
    "min_n, max_n = 1, 10\n",
    "expos = range(min_n, max_n + 1)\n",
    "\n",
    "\n",
    "ns = [2 ** expo for expo in expos]\n",
    "asym_cs = [calculate_asymptotic_c(k, n, epsilon) for n in ns]\n",
    "cs = [calculate_c(k, n, epsilon) for n in ns]\n",
    "\n",
    "fig, ax = plt.subplots()\n",
    "ax.plot(ns, asym_cs, label=\"Asymptotic\")\n",
    "ax.plot(ns, cs, label=\"Exact\")\n",
    "ax.set_yscale('log', basey=2)\n",
    "ax.set_xscale('log', basex=2)\n",
    "ax.legend()\n",
    "# fig.show()"
   ]
  },
  {
   "cell_type": "code",
   "execution_count": 9,
   "metadata": {},
   "outputs": [
    {
     "data": {
      "text/plain": [
       "<matplotlib.legend.Legend at 0x7fc52ed3d210>"
      ]
     },
     "execution_count": 9,
     "metadata": {},
     "output_type": "execute_result"
    },
    {
     "data": {
      "image/png": "[encoded data removed]",
      "text/plain": [
       "<Figure size 432x288 with 1 Axes>"
      ]
     },
     "metadata": {
      "needs_background": "light"
     },
     "output_type": "display_data"
    }
   ],
   "source": [
    "# Constant n\n",
    "n = 2 ** 10\n",
    "epsilon = 0.5\n",
    "min_k, max_k = 1, 50\n",
    "# expos = range(min_n, max_n + 1)\n",
    "ks = range(min_k, max_k + 1)\n",
    "\n",
    "\n",
    "# n = [2 ** expo for expo in expos]\n",
    "asym_cs = [calculate_asymptotic_c(k, n, epsilon) for k in ks]\n",
    "cs = [calculate_c(k, n, epsilon) for k in ks]\n",
    "\n",
    "fig, ax = plt.subplots()\n",
    "ax.plot(ks, asym_cs, label=\"Asymptotic\")\n",
    "ax.plot(ks, cs, label=\"Exact\")\n",
    "ax.set_yscale('log', basey=2)\n",
    "# ax.set_xscale('log', basex=2)\n",
    "ax.legend()\n",
    "# fig.show()"
   ]
  },
  {
   "cell_type": "markdown",
   "metadata": {},
   "source": [
    "# Error for kth best approximation"
   ]
  },
  {
   "cell_type": "code",
   "execution_count": 10,
   "metadata": {},
   "outputs": [
    {
     "name": "stdout",
     "output_type": "stream",
     "text": [
      "Matrix shape = (1024, 512)\n"
     ]
    }
   ],
   "source": [
    "# Create Matrix\n",
    "m = 2 ** 10\n",
    "n = 2 ** 9\n",
    "k_max = 5\n",
    "noise_std = 0.1\n",
    "\n",
    "A = contruct_rank_k_matrix(k_max, m, n)\n",
    "A += np.random.randn(*A.shape) * noise_std\n",
    "print(f\"Matrix shape = {A.shape}\")"
   ]
  },
  {
   "cell_type": "code",
   "execution_count": 11,
   "metadata": {},
   "outputs": [],
   "source": [
    "def kth_best_approx(A, k):\n",
    "    if k-1 < 0:\n",
    "        raise ValueError(\"Positive ks please.\")\n",
    "    u, s, vh = np.linalg.svd(A, full_matrices=False)\n",
    "    return np.dot(u[:, :k] * s[:k], vh[:k, :])"
   ]
  },
  {
   "cell_type": "code",
   "execution_count": 12,
   "metadata": {},
   "outputs": [
    {
     "data": {
      "image/png": "[encoded data removed]",
      "text/plain": [
       "<Figure size 432x288 with 1 Axes>"
      ]
     },
     "metadata": {
      "needs_background": "light"
     },
     "output_type": "display_data"
    }
   ],
   "source": [
    "ks = [k for k in range(1, k_max + 5)]\n",
    "errors = [np.linalg.norm(A - kth_best_approx(A, k)) for k in ks]\n",
    "\n",
    "fig, ax = plt.subplots()\n",
    "ax.plot(ks, errors, label=\"\")\n",
    "ax.set_title(\"Error for kth best approximation vs k\")\n",
    "ax.set_xlabel(\"k\")\n",
    "ax.set_ylabel(\"Errors\");"
   ]
  },
  {
   "cell_type": "markdown",
   "metadata": {},
   "source": [
    "# Error calc for random matricies"
   ]
  },
  {
   "cell_type": "code",
   "execution_count": 13,
   "metadata": {},
   "outputs": [],
   "source": [
    "def u_tilde_k(c, k, A):\n",
    "    m, n = A.shape\n",
    "    S = selection_matrix(n, c)\n",
    "    DH = randomized_hadamard_transform(n)\n",
    "    C = np.linalg.multi_dot([A, DH, S])\n",
    "    Uc, _, _ = np.linalg.svd(C, full_matrices=False)\n",
    "    W = np.dot(Uc.T, A)\n",
    "    if np.linalg.matrix_rank(W) < k:\n",
    "        raise ValueError()\n",
    "    U_w, _, _ = np.linalg.svd(W, full_matrices=False)\n",
    "    U_wk = U_w[:, :k]\n",
    "    U_tilde_k = np.dot(Uc, U_wk)\n",
    "    return U_tilde_k"
   ]
  },
  {
   "cell_type": "code",
   "execution_count": 14,
   "metadata": {},
   "outputs": [
    {
     "name": "stdout",
     "output_type": "stream",
     "text": [
      "[1, 2, 3, 4, 5]\n",
      "[18, 70, 135, 208, 288]\n"
     ]
    }
   ],
   "source": [
    "epsilon = 0.5\n",
    "k_min = 1\n",
    "ks = [k for k in range(k_min, k_max + 1)]\n",
    "# cs = [int(np.ceil(calculate_c(k, n, epsilon))) for k in ks]\n",
    "\n",
    "asym_cs = [int(np.ceil(calculate_asymptotic_c(k, n, epsilon))) for k in ks]\n",
    "errors = np.asarray([np.linalg.norm(A - kth_best_approx(A, k)) for k in ks])\n",
    "print(ks)\n",
    "print(asym_cs)"
   ]
  },
  {
   "cell_type": "code",
   "execution_count": 15,
   "metadata": {},
   "outputs": [],
   "source": [
    "samples = 25\n",
    "utkss = []\n",
    "for c, k in zip(asym_cs, ks):\n",
    "    utks = []\n",
    "    for _ in range(samples):\n",
    "        utks.append(u_tilde_k(c, k, A))\n",
    "    utkss.append(utks)"
   ]
  },
  {
   "cell_type": "code",
   "execution_count": 16,
   "metadata": {},
   "outputs": [],
   "source": [
    "random_errorss = []\n",
    "for utks in utkss:\n",
    "    random_errors = []\n",
    "    for utk in utks:\n",
    "        random_errors.append(np.linalg.norm(A - np.linalg.multi_dot((utk, utk.T, A))))\n",
    "    random_errorss.append(random_errors)\n",
    "random_errorss = np.asarray(random_errorss)"
   ]
  },
  {
   "cell_type": "code",
   "execution_count": 17,
   "metadata": {},
   "outputs": [],
   "source": [
    "epsilon_error = random_errorss/errors[:, None] - 1"
   ]
  },
  {
   "cell_type": "code",
   "execution_count": 18,
   "metadata": {},
   "outputs": [
    {
     "name": "stdout",
     "output_type": "stream",
     "text": [
      "Asymptotically calculated (k, c) pairs [(1, 18), (2, 70), (3, 135), (4, 208), (5, 288)]\n"
     ]
    },
    {
     "data": {
      "image/png": "[encoded data removed]",
      "text/plain": [
       "<Figure size 432x288 with 1 Axes>"
      ]
     },
     "metadata": {
      "needs_background": "light"
     },
     "output_type": "display_data"
    }
   ],
   "source": [
    "fig, ax = plt.subplots()\n",
    "ax.set_title('Box Plot of Epsilon Error')\n",
    "ax.set_ylabel('Epsilon')\n",
    "ax.set_xlabel(\"k\")\n",
    "ax.set_xticklabels(ks)\n",
    "ax.boxplot(epsilon_error.T);\n",
    "print(f\"Asymptotically calculated (k, c) pairs {list(zip(ks, asym_cs))}\")"
   ]
  },
  {
   "cell_type": "code",
   "execution_count": null,
   "metadata": {},
   "outputs": [],
   "source": []
  }
 ],
 "metadata": {
  "kernelspec": {
   "display_name": "Python 3",
   "language": "python",
   "name": "python3"
  },
  "language_info": {
   "codemirror_mode": {
    "name": "ipython",
    "version": 3
   },
   "file_extension": ".py",
   "mimetype": "text/x-python",
   "name": "python",
   "nbconvert_exporter": "python",
   "pygments_lexer": "ipython3",
   "version": "3.7.4"
  }
 },
 "nbformat": 4,
 "nbformat_minor": 2
}
