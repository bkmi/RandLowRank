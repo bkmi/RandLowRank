{
 "cells": [
  {
   "cell_type": "code",
   "execution_count": null,
   "metadata": {},
   "outputs": [],
   "source": [
    "%matplotlib inline"
   ]
  },
  {
   "cell_type": "code",
   "execution_count": null,
   "metadata": {},
   "outputs": [],
   "source": [
    "import matplotlib.pyplot as plt\n",
    "import numpy as np\n",
    "import scipy.linalg"
   ]
  },
  {
   "cell_type": "markdown",
   "metadata": {},
   "source": [
    "# Creating A"
   ]
  },
  {
   "cell_type": "code",
   "execution_count": null,
   "metadata": {},
   "outputs": [],
   "source": [
    "# def data_matrix(k, m, n):\n",
    "#     extra_columns = n-k\n",
    "#     extra_rows = m-k\n",
    "#     return np.block([\n",
    "#         [np.eye(k), np.zeros((k, extra_columns))],\n",
    "#         [np.zeros((extra_rows, k)), np.zeros((extra_rows, extra_columns))],\n",
    "#     ])"
   ]
  },
  {
   "cell_type": "code",
   "execution_count": null,
   "metadata": {},
   "outputs": [],
   "source": [
    "def contruct_rank_k_matrix(k, m, n):\n",
    "    assert k < m and k < n\n",
    "    columns = np.random.randn(m, k)\n",
    "    first = np.arange(0, k)\n",
    "    rand_select = np.random.randint(low=0, high=k, size=n-k)\n",
    "    select = np.concatenate([first, rand_select])\n",
    "    random_mat = columns[:, select]\n",
    "    return random_mat"
   ]
  },
  {
   "cell_type": "markdown",
   "metadata": {},
   "source": [
    "# Calculating c"
   ]
  },
  {
   "cell_type": "code",
   "execution_count": null,
   "metadata": {},
   "outputs": [],
   "source": [
    "def calculate_asymptotic_c(k, n, epsilon):\n",
    "    \"\"\"Approximate for large n.\"\"\"\n",
    "    n = float(n)\n",
    "    if 0.0 < epsilon and epsilon <= 0.5 and k <= n:\n",
    "        c = (k / epsilon ** 2)\n",
    "        c *= np.log(k / epsilon)\n",
    "        c *= np.log(n)\n",
    "        return c\n",
    "    else:\n",
    "        raise ValueError(\"Epsilon must be between 0 and 1/2.\")\n",
    "\n",
    "def calculate_c(k, n, epsilon):\n",
    "    n = float(n)\n",
    "    epsilon /= 21\n",
    "    c = 192 * k * np.log(40 * n * k) / epsilon ** 2\n",
    "    c *= np.log((192 * np.sqrt(20) * k * np.log(40 * n * k)) / epsilon ** 2)\n",
    "    return c"
   ]
  },
  {
   "cell_type": "markdown",
   "metadata": {},
   "source": [
    "# The Selection Matrix"
   ]
  },
  {
   "cell_type": "code",
   "execution_count": null,
   "metadata": {},
   "outputs": [],
   "source": [
    "def selection_matrix(c, n):\n",
    "    \"\"\"Return a selection matrix of shape == (n, c)\"\"\"\n",
    "    index_canonical_vectors = np.random.randint(low=0, high=n-1, size=c)\n",
    "    canonical_vectors = np.zeros((n, c))\n",
    "    for row, col in zip(index_canonical_vectors, range(c)):\n",
    "        canonical_vectors[row, col] = 1.0\n",
    "    return np.sqrt(n/c) * canonical_vectors"
   ]
  },
  {
   "cell_type": "markdown",
   "metadata": {},
   "source": [
    "# The Randomized Hadamard Transform"
   ]
  },
  {
   "cell_type": "code",
   "execution_count": null,
   "metadata": {},
   "outputs": [],
   "source": [
    "# def hadamard_matrix(n):\n",
    "#     if n == 2:\n",
    "#         h2 = np.array([[1, 1],[1, -1]])\n",
    "#         return h2\n",
    "#     elif n % 2 == 0:\n",
    "#         return np.block([\n",
    "#             [hadamard_matrix(n/2), hadamard_matrix(n/2)], \n",
    "#             [hadamard_matrix(n/2), -hadamard_matrix(n/2)]\n",
    "#         ])\n",
    "#     else:\n",
    "#         raise ValueError(\"n was not a power of two.\")\n",
    "\n",
    "def randomized_hadamard_transform(n):\n",
    "    H_tilde = scipy.linalg.hadamard(n)\n",
    "    H = np.sqrt(n) ** (-1) * H_tilde\n",
    "    D = np.diag(np.random.randint(low=0, high=2, size=n) - 0.5)\n",
    "    return D @ H"
   ]
  },
  {
   "cell_type": "markdown",
   "metadata": {},
   "source": [
    "# Show c vs asymptotic c"
   ]
  },
  {
   "cell_type": "code",
   "execution_count": null,
   "metadata": {},
   "outputs": [],
   "source": [
    "# Constant k\n",
    "k = 1\n",
    "epsilon = 0.5\n",
    "min_n, max_n = 1, 10\n",
    "expos = range(min_n, max_n + 1)\n",
    "\n",
    "\n",
    "ns = [2 ** expo for expo in expos]\n",
    "asym_cs = [calculate_asymptotic_c(k, n, epsilon) for n in ns]\n",
    "cs = [calculate_c(k, n, epsilon) for n in ns]\n",
    "\n",
    "fig, ax = plt.subplots()\n",
    "ax.plot(ns, asym_cs, label=\"Asymptotic\")\n",
    "ax.plot(ns, cs, label=\"Exact\")\n",
    "ax.set_yscale('log', basey=2)\n",
    "ax.set_xscale('log', basex=2)\n",
    "ax.legend()\n",
    "# fig.show()"
   ]
  },
  {
   "cell_type": "code",
   "execution_count": null,
   "metadata": {},
   "outputs": [],
   "source": [
    "# Constant n\n",
    "n = 2 ** 10\n",
    "epsilon = 0.5\n",
    "min_k, max_k = 1, 50\n",
    "# expos = range(min_n, max_n + 1)\n",
    "ks = range(min_k, max_k + 1)\n",
    "\n",
    "\n",
    "# n = [2 ** expo for expo in expos]\n",
    "asym_cs = [calculate_asymptotic_c(k, n, epsilon) for k in ks]\n",
    "cs = [calculate_c(k, n, epsilon) for k in ks]\n",
    "\n",
    "fig, ax = plt.subplots()\n",
    "ax.plot(ks, asym_cs, label=\"Asymptotic\")\n",
    "ax.plot(ks, cs, label=\"Exact\")\n",
    "ax.set_yscale('log', basey=2)\n",
    "# ax.set_xscale('log', basex=2)\n",
    "ax.legend()\n",
    "# fig.show()"
   ]
  },
  {
   "cell_type": "markdown",
   "metadata": {},
   "source": [
    "# Error for kth best approximation"
   ]
  },
  {
   "cell_type": "code",
   "execution_count": null,
   "metadata": {},
   "outputs": [],
   "source": [
    "def kth_best_approx(A, k):\n",
    "    if k-1 < 0:\n",
    "        raise ValueError(\"Positive ks please.\")\n",
    "    u, s, vh = np.linalg.svd(A, full_matrices=False)\n",
    "    return np.dot(u[:, :k] * s[:k], vh[:k, :])"
   ]
  },
  {
   "cell_type": "code",
   "execution_count": null,
   "metadata": {},
   "outputs": [],
   "source": [
    "m = 2 ** 10\n",
    "n = 2 ** 9\n",
    "A = contruct_rank_k_matrix(5, m, n)\n",
    "\n",
    "ks = [k for k in range(1, 8)]\n",
    "errors = [np.linalg.norm(A - kth_best_approx(A, k)) for k in ks]\n",
    "\n",
    "fig, ax = plt.subplots()\n",
    "ax.plot(ks, errors, label=\"\")\n",
    "ax.set_title(\"Error for kth best approximation vs k\")\n",
    "ax.set_xlabel(\"k\")\n",
    "ax.set_ylabel(\"Errors\")"
   ]
  },
  {
   "cell_type": "markdown",
   "metadata": {},
   "source": [
    "# Error calc for random matricies"
   ]
  },
  {
   "cell_type": "code",
   "execution_count": null,
   "metadata": {},
   "outputs": [],
   "source": [
    "def u_tilde_k(c, k, A):\n",
    "    m, n = A.shape\n",
    "    S = selection_matrix(c, n)\n",
    "    DH = randomized_hadamard_transform(n)\n",
    "    C = np.linalg.multi_dot([A, DH, S])\n",
    "    Uc, _, _ = np.linalg.svd(C, full_matrices=False)\n",
    "    W = np.dot(Uc.T, A)\n",
    "    if np.linalg.matrix_rank(W) < k:\n",
    "        raise ValueError()\n",
    "    U_w, _, _ = np.linalg.svd(W, full_matrices=False)\n",
    "    U_wk = U_w[:, :k]\n",
    "    U_tilde_k = np.dot(Uc, U_wk)\n",
    "    return U_tilde_k"
   ]
  },
  {
   "cell_type": "code",
   "execution_count": null,
   "metadata": {},
   "outputs": [],
   "source": [
    "epsilon = 0.5\n",
    "cs = [int(np.ceil(calculate_c(k, n, epsilon))) for k in ks]\n",
    "asym_cs = [int(np.ceil(calculate_asymptotic_c(k, n, epsilon))) for k in ks]"
   ]
  },
  {
   "cell_type": "code",
   "execution_count": null,
   "metadata": {},
   "outputs": [],
   "source": [
    "utk.shape"
   ]
  },
  {
   "cell_type": "code",
   "execution_count": null,
   "metadata": {},
   "outputs": [],
   "source": [
    "utk = u_tilde_k(asym_cs[0], ks[0], A)"
   ]
  },
  {
   "cell_type": "code",
   "execution_count": null,
   "metadata": {},
   "outputs": [],
   "source": [
    "error = np.linalg.norm(A - np.linalg.multi_dot((utk, utk.T, A)))\n",
    "error"
   ]
  },
  {
   "cell_type": "code",
   "execution_count": null,
   "metadata": {},
   "outputs": [],
   "source": [
    "m = 2 ** 20\n",
    "n = 2 ** 20\n",
    "# k = int(1e-4 * min([n, m]))\n",
    "k = int(1e-3 * n)\n",
    "epsilon = 0.5\n",
    "c = \n",
    "print(f\"n = {n}, k = {k}, c = {c}\")"
   ]
  },
  {
   "cell_type": "code",
   "execution_count": null,
   "metadata": {},
   "outputs": [],
   "source": [
    "m = 2 ** 14\n",
    "n = 2 ** 13\n",
    "# k = int(1e-4 * min([n, m]))\n",
    "k = int(1e-3 * n)\n",
    "epsilon = 0.5\n",
    "c = int(np.ceil(calculate_c(k, n, epsilon)))\n",
    "print(f\"n = {n}, k = {k}, c = {c}\")"
   ]
  },
  {
   "cell_type": "code",
   "execution_count": null,
   "metadata": {},
   "outputs": [],
   "source": []
  },
  {
   "cell_type": "code",
   "execution_count": null,
   "metadata": {},
   "outputs": [],
   "source": [
    "A = data_matrix(k, m, n)\n",
    "A = "
   ]
  },
  {
   "cell_type": "code",
   "execution_count": null,
   "metadata": {},
   "outputs": [],
   "source": [
    "S = selection_matrix(c, n)"
   ]
  },
  {
   "cell_type": "code",
   "execution_count": null,
   "metadata": {},
   "outputs": [],
   "source": [
    "DH = randomized_hadamard_transform(n)"
   ]
  },
  {
   "cell_type": "code",
   "execution_count": null,
   "metadata": {},
   "outputs": [],
   "source": [
    "ADHS = np.linalg.multi_dot((A, DH, S))"
   ]
  },
  {
   "cell_type": "code",
   "execution_count": null,
   "metadata": {},
   "outputs": [],
   "source": [
    "ADHS.shape"
   ]
  }
 ],
 "metadata": {
  "kernelspec": {
   "display_name": "Python 3",
   "language": "python",
   "name": "python3"
  },
  "language_info": {
   "codemirror_mode": {
    "name": "ipython",
    "version": 3
   },
   "file_extension": ".py",
   "mimetype": "text/x-python",
   "name": "python",
   "nbconvert_exporter": "python",
   "pygments_lexer": "ipython3",
   "version": "3.7.4"
  }
 },
 "nbformat": 4,
 "nbformat_minor": 2
}
